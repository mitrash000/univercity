{
  "cells": [
    {
      "cell_type": "markdown",
      "metadata": {
        "id": "view-in-github",
        "colab_type": "text"
      },
      "source": [
        "<a href=\"https://colab.research.google.com/github/mitrash000/univercity/blob/main/Tasks/%22%D0%94%D0%BE%D0%BF%D0%BE%D0%BB%D0%BD%D0%B8%D1%82%D0%B5%D0%BB%D1%8C%D0%BD%D0%BE%D0%B5_%D0%B7%D0%B0%D0%B4%D0%B0%D0%BD%D0%B8%D0%B5_%E2%84%963_%D0%9E%D0%B1%D1%80%D0%B0%D0%B1%D0%BE%D1%82%D0%BA%D0%B0_%D0%B8%D1%81%D0%BA%D0%BB%D1%8E%D1%87%D0%B5%D0%BD%D0%B8%D0%B9_%D0%B8_%D1%80%D0%B0%D0%B1%D0%BE%D1%82%D0%B0_%D1%81_%D1%82%D0%B5%D0%BA%D1%81%D1%82%D0%BE%D0%B2%D1%8B%D0%BC%D0%B8_%D1%84%D0%B0%D0%B9%D0%BB%D0%B0%D0%BC%D0%B8_ipynb%22.ipynb\" target=\"_parent\"><img src=\"https://colab.research.google.com/assets/colab-badge.svg\" alt=\"Open In Colab\"/></a>"
      ]
    },
    {
      "cell_type": "markdown",
      "id": "bb332bf9",
      "metadata": {
        "id": "bb332bf9"
      },
      "source": [
        "# **Дополнительное задание №3. Обработка исключений и работа с текстовыми файлами**"
      ]
    },
    {
      "cell_type": "markdown",
      "id": "aa6808db",
      "metadata": {
        "id": "aa6808db"
      },
      "source": [
        "**БАЗА:**\n",
        "\n",
        "- **Обработка исключений** позволяет перехватывать и обрабатывать ошибки, возникающие при выполнении программы, предотвращая её аварийное завершение.\n",
        "- **Работа с файлами** - важный навык для чтения, записи и обработки текстовой информации в Python.\n",
        "\n",
        "---"
      ]
    },
    {
      "cell_type": "markdown",
      "id": "2478deca",
      "metadata": {
        "id": "2478deca"
      },
      "source": [
        "## **I. Обработка исключений**"
      ]
    },
    {
      "cell_type": "markdown",
      "id": "0ab0b851",
      "metadata": {
        "id": "0ab0b851"
      },
      "source": [
        "### **Пункт №1. Обработка некорректного индекса (IndexError)**"
      ]
    },
    {
      "cell_type": "markdown",
      "id": "46e69e1f",
      "metadata": {
        "id": "46e69e1f"
      },
      "source": [
        "Создайте список из нескольких элементов (например, [10, 20, 30]). Попросите пользователя ввести индекс элемента, который нужно вывести. Если пользователь введёт индекс, выходящий за границы списка, перехватите IndexError и сообщите об этом.\n",
        "\n",
        "**ОБЯЗАТЕЛЬНО:**\n",
        "- Создайте список из минимум 5 элементов\n",
        "- Покажите содержимое списка перед работой\n",
        "- Протестируйте минимум 4 случая (корректный индекс, отрицательный, слишком большой, нечисловое значение)"
      ]
    },
    {
      "cell_type": "code",
      "execution_count": null,
      "id": "724c5954",
      "metadata": {
        "id": "724c5954",
        "outputId": "cad311d7-6e8b-4bf0-b5a2-35873dbc89c0",
        "colab": {
          "base_uri": "https://localhost:8080/"
        }
      },
      "outputs": [
        {
          "output_type": "stream",
          "name": "stdout",
          "text": [
            "3\n",
            "40\n"
          ]
        }
      ],
      "source": [
        "s=[10,20,30,40,50]\n",
        "try:\n",
        "  i=int(input())\n",
        "except ValueError:\n",
        "  print('Ошибка: это не число')\n",
        "else:\n",
        "  if i<0:\n",
        "    print('Ошибка, индекс меньше нуля')\n",
        "  else:\n",
        "    try:\n",
        "      print(s[i])\n",
        "    except IndexError:\n",
        "      print('Ошибка, индекс вышел за пределы списка')"
      ]
    },
    {
      "cell_type": "code",
      "source": [
        "s=[10,20,30,40,50]\n",
        "try:\n",
        "  i=int(input())\n",
        "except ValueError:\n",
        "  print('Ошибка: это не число')\n",
        "else:\n",
        "  if i<0:\n",
        "    print('Ошибка, индекс меньше нуля')\n",
        "  else:\n",
        "    try:\n",
        "      print(s[i])\n",
        "    except IndexError:\n",
        "      print('Ошибка, индекс вышел за пределы списка')"
      ],
      "metadata": {
        "id": "NBSB3LFM7ff_",
        "outputId": "d6ef9530-4072-48f4-8a2f-65c3950b1798",
        "colab": {
          "base_uri": "https://localhost:8080/"
        }
      },
      "id": "NBSB3LFM7ff_",
      "execution_count": null,
      "outputs": [
        {
          "output_type": "stream",
          "name": "stdout",
          "text": [
            "8\n",
            "Ошибка, индекс вышел за пределы списка\n"
          ]
        }
      ]
    },
    {
      "cell_type": "code",
      "source": [
        "s=[10,20,30,40,50]\n",
        "try:\n",
        "  i=int(input())\n",
        "except ValueError:\n",
        "  print('Ошибка: это не число')\n",
        "else:\n",
        "  if i<0:\n",
        "    print('Ошибка, индекс меньше нуля')\n",
        "  else:\n",
        "    try:\n",
        "      print(s[i])\n",
        "    except IndexError:\n",
        "      print('Ошибка, индекс вышел за пределы списка')"
      ],
      "metadata": {
        "id": "XxM1HU3y7fZK",
        "outputId": "98acd406-5077-4de2-89c8-6c6cab6a5cf8",
        "colab": {
          "base_uri": "https://localhost:8080/"
        }
      },
      "id": "XxM1HU3y7fZK",
      "execution_count": null,
      "outputs": [
        {
          "output_type": "stream",
          "name": "stdout",
          "text": [
            "-1\n",
            "Ошибка, индекс меньше нуля\n"
          ]
        }
      ]
    },
    {
      "cell_type": "code",
      "source": [
        "s=[10,20,30,40,50]\n",
        "try:\n",
        "  i=int(input())\n",
        "except ValueError:\n",
        "  print('Ошибка: это не число')\n",
        "else:\n",
        "  if i<0:\n",
        "    print('Ошибка, индекс меньше нуля')\n",
        "  try:\n",
        "    print(s[i])\n",
        "  except IndexError:\n",
        "    print('Ошибка, индекс вышел зв пределы списка')"
      ],
      "metadata": {
        "id": "O9CnfFIN7fOR",
        "outputId": "524681e9-9e3c-466f-af6c-85228af7c3c6",
        "colab": {
          "base_uri": "https://localhost:8080/"
        }
      },
      "id": "O9CnfFIN7fOR",
      "execution_count": null,
      "outputs": [
        {
          "output_type": "stream",
          "name": "stdout",
          "text": [
            "uyfgfuyfyu\n",
            "Ошибка: это не число\n"
          ]
        }
      ]
    },
    {
      "cell_type": "markdown",
      "id": "7ac84eec",
      "metadata": {
        "id": "7ac84eec"
      },
      "source": [
        "---"
      ]
    },
    {
      "cell_type": "markdown",
      "id": "f8bfb6e1",
      "metadata": {
        "id": "f8bfb6e1"
      },
      "source": [
        "### **Пункт №2. Обработка исключений в цикле**"
      ]
    },
    {
      "cell_type": "markdown",
      "id": "63c3b706",
      "metadata": {
        "id": "63c3b706"
      },
      "source": [
        "Напишите программу, которая запрашивает у пользователя числа и добавляет их в список.\n",
        "- Если пользователь вводит некорректные данные, программа должна выводить сообщение об ошибке и продолжать работу.\n",
        "- Для выхода из программы пользователь должен ввести \"стоп\".\n",
        "\n",
        "**ОБЯЗАТЕЛЬНО:**\n",
        "- Покажите процесс ввода минимум 7 значений (включая ошибочные)\n",
        "- Выведите финальный список и статистику (сколько чисел введено успешно, сколько ошибок)"
      ]
    },
    {
      "cell_type": "markdown",
      "source": [
        "\n",
        "\n",
        "```\n",
        "# Пример:\n",
        "# Введите число: 10\n",
        "# Введите число: текст (Ошибка: это не число)\n",
        "# Введите число: стоп\n",
        "# Итоговый список: [10]\n",
        "```\n",
        "\n"
      ],
      "metadata": {
        "id": "aiWaEPOuoHDS"
      },
      "id": "aiWaEPOuoHDS"
    },
    {
      "cell_type": "code",
      "execution_count": null,
      "id": "31448e09",
      "metadata": {
        "id": "31448e09",
        "outputId": "dc9aaf59-f0cb-4e98-f2f7-992c6ff6623e",
        "colab": {
          "base_uri": "https://localhost:8080/"
        }
      },
      "outputs": [
        {
          "output_type": "stream",
          "name": "stdout",
          "text": [
            "10\n",
            "20\n",
            "30\n",
            "иенин\n",
            "Ошибка: это не число\n",
            "ниеин\n",
            "Ошибка: это не число\n",
            "2000\n",
            "стоп\n",
            "[10, 20, 30, 2000]\n"
          ]
        }
      ],
      "source": [
        "s=[]\n",
        "while True:\n",
        "  i=input()\n",
        "  try:\n",
        "    if i=='стоп':\n",
        "      print(s)\n",
        "      break\n",
        "    i=int(i)\n",
        "  except ValueError:\n",
        "    print('Ошибка: это не число')\n",
        "  else:\n",
        "    s.append(i)\n"
      ]
    },
    {
      "cell_type": "markdown",
      "metadata": {
        "id": "Yv-FNYTEp0vV"
      },
      "source": [
        "---"
      ],
      "id": "Yv-FNYTEp0vV"
    },
    {
      "cell_type": "markdown",
      "id": "5971f85d",
      "metadata": {
        "id": "5971f85d"
      },
      "source": [
        "### **Пункт №3**"
      ]
    },
    {
      "cell_type": "markdown",
      "id": "b1457074",
      "metadata": {
        "id": "b1457074"
      },
      "source": [
        "Создайте функцию `get_list_element(lst, index)`, которая безопасно извлекает элемент списка по индексу с использованием блоков `try`, `except`, `else` и `finally`.\n",
        "\n",
        "Функция должна:\n",
        "- Обрабатывать выход за пределы списка\n",
        "- Обрабатывать некорректный тип индекса\n",
        "- Выводить сообщение о попытке доступа в блоке `finally`\n",
        "\n",
        "**ОБЯЗАТЕЛЬНО:**\n",
        "- Выведите результаты для минимум 4 различных случаев (успешный доступ, выход за границы, отрицательный индекс, нечисловой индекс)\n",
        "- Покажите, что блок `finally` выполняется всегда\n",
        "\n",
        "```python\n",
        "# Пример использования:\n",
        "my_list = [1, 2, 3, 4, 5]\n",
        "get_list_element(my_list, 2)   # Вывод: \"Элемент: 3\", \"Попытка доступа завершена\"\n",
        "get_list_element(my_list, 10)  # Вывод: \"Индекс вне диапазона\", \"Попытка доступа завершена\"\n",
        "```"
      ]
    },
    {
      "cell_type": "code",
      "execution_count": null,
      "id": "1c067cf3",
      "metadata": {
        "id": "1c067cf3",
        "colab": {
          "base_uri": "https://localhost:8080/"
        },
        "outputId": "0b7c4506-9825-4a62-f904-790d2dc521bf"
      },
      "outputs": [
        {
          "output_type": "stream",
          "name": "stdout",
          "text": [
            "1 2 3 4 5\n",
            "Элемент:2\n",
            "1 2 3 4 5\n",
            "Отрицательный индекс\n",
            "1 2 3 4 5\n",
            "Индекс вне диапазона\n",
            "1 2 3 4 5\n",
            "Это не число\n"
          ]
        }
      ],
      "source": [
        "my_list = [1, 2, 3, 4, 5]\n",
        "\n",
        "def get_list_element(lst, index):\n",
        "  print(*lst)\n",
        "  try:\n",
        "    i=int(index)\n",
        "  except ValueError:\n",
        "    print('Это не число')\n",
        "  else:\n",
        "    if i<0:\n",
        "      print('Отрицательный индекс')\n",
        "    else:\n",
        "      try:\n",
        "        a=lst[i]\n",
        "      except IndexError:\n",
        "        print(\"Индекс вне диапазона\")\n",
        "      else:\n",
        "        print(f\"Элемент:{a}\")\n",
        "\n",
        "\n",
        "get_list_element(my_list, 1)\n",
        "get_list_element(my_list, -1)\n",
        "get_list_element(my_list, '20')\n",
        "get_list_element(my_list, 'ugytyun')"
      ]
    },
    {
      "cell_type": "markdown",
      "id": "b5bb39c7",
      "metadata": {
        "id": "b5bb39c7"
      },
      "source": [
        "---"
      ]
    },
    {
      "cell_type": "markdown",
      "id": "b0972d59",
      "metadata": {
        "id": "b0972d59"
      },
      "source": [
        "## **II. Работа с текстовыми файлами**"
      ]
    },
    {
      "cell_type": "markdown",
      "id": "35729435",
      "metadata": {
        "id": "35729435"
      },
      "source": [
        "### **Пункт №1. Запись в файл**"
      ]
    },
    {
      "cell_type": "markdown",
      "id": "3121365f",
      "metadata": {
        "id": "3121365f"
      },
      "source": [
        "Напишите программу, которая запрашивает у пользователя строку и записывает её в файл output.txt в режиме дозаписи.\n",
        "\n",
        "**ОБЯЗАТЕЛЬНО:**\n",
        "- Запросите у пользователя минимум 3 строки\n",
        "- Покажите содержимое файла после записи"
      ]
    },
    {
      "cell_type": "code",
      "execution_count": 4,
      "id": "cbce6c5f",
      "metadata": {
        "id": "cbce6c5f",
        "colab": {
          "base_uri": "https://localhost:8080/"
        },
        "outputId": "004a5e6f-ddcd-4864-d1aa-1cefba6247ba"
      },
      "outputs": [
        {
          "output_type": "stream",
          "name": "stdout",
          "text": [
            "qefih67\n",
            "ahwfhiuq12\n",
            "qeihfhoiefq98\n",
            "qefih67\n",
            "ahwfhiuq12\n",
            "qeihfhoiefq98\n",
            "\n"
          ]
        }
      ],
      "source": [
        "s1=str(input())\n",
        "s2=str(input())\n",
        "s3=str(input())\n",
        "with open(\"output.txt\", mode='a', encoding='utf8') as new_text:\n",
        "  new_text.write(f'{s1}\\n')\n",
        "  new_text.write(f'{s2}\\n')\n",
        "  new_text.write(f'{s3}\\n')\n",
        "with open('output.txt', encoding='utf8') as text:\n",
        "  content = text.read()\n",
        "  print(content)\n"
      ]
    },
    {
      "cell_type": "markdown",
      "id": "361b3d2b",
      "metadata": {
        "id": "361b3d2b"
      },
      "source": [
        "---"
      ]
    },
    {
      "cell_type": "markdown",
      "id": "cce864b4",
      "metadata": {
        "id": "cce864b4"
      },
      "source": [
        "### **Пункт №2. Чтение из файла**"
      ]
    },
    {
      "cell_type": "markdown",
      "id": "4fc83b82",
      "metadata": {
        "id": "4fc83b82"
      },
      "source": [
        "Напишите программу, которая открывает файл output.txt и выводит его содержимое на экран.\n",
        "\n",
        "**ОБЯЗАТЕЛЬНО:**\n",
        "- Создайте файл с минимум 5 строками текста\n",
        "- Покажите содержимое файла целиком\n",
        "- Обработайте случай отсутствующего файла"
      ]
    },
    {
      "cell_type": "code",
      "source": [
        "s1=str(input())\n",
        "s2=str(input())\n",
        "with open(\"output.txt\", mode='a', encoding='utf8') as new_text:\n",
        "  new_text.write(f'{s1}\\n')\n",
        "  new_text.write(f'{s2}\\n')"
      ],
      "metadata": {
        "colab": {
          "base_uri": "https://localhost:8080/"
        },
        "id": "5brE_Xeh0U1T",
        "outputId": "046bad2f-90aa-4a2d-9922-b5e138aff2b3"
      },
      "id": "5brE_Xeh0U1T",
      "execution_count": 5,
      "outputs": [
        {
          "name": "stdout",
          "output_type": "stream",
          "text": [
            "ftyii7kdt\n",
            "g8omt7o\n"
          ]
        }
      ]
    },
    {
      "cell_type": "code",
      "execution_count": 9,
      "id": "df27a986",
      "metadata": {
        "id": "df27a986",
        "colab": {
          "base_uri": "https://localhost:8080/"
        },
        "outputId": "2da900e5-c697-41f9-f270-f62874a0b0a9"
      },
      "outputs": [
        {
          "output_type": "stream",
          "name": "stdout",
          "text": [
            "qefih67\n",
            "ahwfhiuq12\n",
            "qeihfhoiefq98\n",
            "ftyii7kdt\n",
            "g8omt7o\n",
            "\n"
          ]
        }
      ],
      "source": [
        "try:\n",
        "  with open('output.txt', encoding='utf8') as text:\n",
        "    content = text.read()\n",
        "except FileNotFoundError:\n",
        "  print('файл не найден')\n",
        "else:\n",
        "  print(content)\n"
      ]
    },
    {
      "cell_type": "markdown",
      "id": "2be296a2",
      "metadata": {
        "id": "2be296a2"
      },
      "source": [
        "---"
      ]
    },
    {
      "cell_type": "markdown",
      "id": "045696ba",
      "metadata": {
        "id": "045696ba"
      },
      "source": [
        "### **Пункт №3. Подсчет строк в файле**"
      ]
    },
    {
      "cell_type": "markdown",
      "id": "570ac3e9",
      "metadata": {
        "id": "570ac3e9"
      },
      "source": [
        "Напишите программу, которая открывает файл output.txt и подсчитывает количество строк в нём.\n",
        "\n",
        "**ОБЯЗАТЕЛЬНО:**\n",
        "- Создайте тестовый файл с известным количеством строк (минимум 10)\n",
        "- Покажите первые 3 строки файла\n",
        "- Выведите общее количество строк\n",
        "- Выведите количество непустых строк"
      ]
    },
    {
      "cell_type": "code",
      "source": [
        "with open(\"output.txt\", mode='a', encoding='utf8') as new_text:\n",
        "  new_text.write('1qeafqef\\n')\n",
        "  new_text.write('2qeaevfqef\\n')\n",
        "  new_text.write('3qeafseqef\\n')\n",
        "  new_text.write('4qeafgfhqef\\n')\n",
        "  new_text.write('5qeafdqef\\n')\n",
        "  new_text.write('6qeafmhqef\\n')"
      ],
      "metadata": {
        "id": "-8H_Q72Z1KCT"
      },
      "id": "-8H_Q72Z1KCT",
      "execution_count": 10,
      "outputs": []
    },
    {
      "cell_type": "code",
      "execution_count": 12,
      "id": "84aa205a",
      "metadata": {
        "id": "84aa205a",
        "colab": {
          "base_uri": "https://localhost:8080/"
        },
        "outputId": "d0a657d2-7e4c-46a5-ab53-6f7698f7ebb1"
      },
      "outputs": [
        {
          "output_type": "stream",
          "name": "stdout",
          "text": [
            "1: qefih67\n",
            "2: ahwfhiuq12\n",
            "3: qeihfhoiefq98\n",
            "\n",
            "Общее количество строк: 11\n",
            "Количество непустых строк: 11\n"
          ]
        }
      ],
      "source": [
        "with open('output.txt', 'r', encoding='utf-8') as f:\n",
        "    lines = f.readlines()\n",
        "    for i, line in enumerate(lines[:3], 1):\n",
        "        print(f\"{i}: {line.strip()}\")\n",
        "    total_lines = len(lines)\n",
        "    print(f\"\\nОбщее количество строк: {total_lines}\")\n",
        "    non_empty_lines = sum(1 for line in lines if line.strip())\n",
        "    print(f\"Количество непустых строк: {non_empty_lines}\")"
      ]
    },
    {
      "cell_type": "markdown",
      "id": "94c6dcb0",
      "metadata": {
        "id": "94c6dcb0"
      },
      "source": [
        "---"
      ]
    },
    {
      "cell_type": "markdown",
      "id": "56f2a74e",
      "metadata": {
        "id": "56f2a74e"
      },
      "source": [
        "### **Пункт №4. Копирование содержимого файла**"
      ]
    },
    {
      "cell_type": "markdown",
      "id": "ed736046",
      "metadata": {
        "id": "ed736046"
      },
      "source": [
        "Напишите программу, которая копирует содержимое файла input.txt в файл output.txt.\n",
        "\n",
        "**ОБЯЗАТЕЛЬНО:**\n",
        "- Создайте исходный файл с тестовым содержимым (минимум 5 строк)\n",
        "- Покажите содержимое исходного файла\n",
        "- Выполните копирование\n",
        "- Покажите содержимое скопированного файла\n",
        "- Обработайте случай отсутствия исходного файла"
      ]
    },
    {
      "cell_type": "code",
      "source": [
        "with open(\"input.txt\", mode='a', encoding='utf8') as new_text:\n",
        "  new_text.write('1q\\n')\n",
        "  new_text.write('2q\\n')\n",
        "  new_text.write('3q\\n')\n",
        "  new_text.write('4q\\n')\n",
        "  new_text.write('5q\\n')\n",
        "  new_text.write('6q\\n')"
      ],
      "metadata": {
        "id": "ZHTk55W34ckc"
      },
      "id": "ZHTk55W34ckc",
      "execution_count": 14,
      "outputs": []
    },
    {
      "cell_type": "code",
      "execution_count": 20,
      "id": "31bd8a06",
      "metadata": {
        "id": "31bd8a06",
        "colab": {
          "base_uri": "https://localhost:8080/"
        },
        "outputId": "65254b1c-e5c2-4ba0-b270-07e498b57c68"
      },
      "outputs": [
        {
          "output_type": "stream",
          "name": "stdout",
          "text": [
            "исходный файл:qefih67\n",
            "ahwfhiuq12\n",
            "qeihfhoiefq98\n",
            "ftyii7kdt\n",
            "g8omt7o\n",
            "1qeafqef\n",
            "2qeaevfqef\n",
            "3qeafseqef\n",
            "4qeafgfhqef\n",
            "5qeafdqef\n",
            "6qeafmhqef\n",
            "['1q\\n', '2q\\n', '3q\\n', '4q\\n', '5q\\n', '6q\\n']\n",
            "['1q\\n', '2q\\n', '3q\\n', '4q\\n', '5q\\n', '6q\\n']\n",
            "\n",
            "cкопированный файл:['1q\\n', '2q\\n', '3q\\n', '4q\\n', '5q\\n', '6q\\n']\n",
            "полученный файл:qefih67\n",
            "ahwfhiuq12\n",
            "qeihfhoiefq98\n",
            "ftyii7kdt\n",
            "g8omt7o\n",
            "1qeafqef\n",
            "2qeaevfqef\n",
            "3qeafseqef\n",
            "4qeafgfhqef\n",
            "5qeafdqef\n",
            "6qeafmhqef\n",
            "['1q\\n', '2q\\n', '3q\\n', '4q\\n', '5q\\n', '6q\\n']\n",
            "['1q\\n', '2q\\n', '3q\\n', '4q\\n', '5q\\n', '6q\\n']\n",
            "['1q\\n', '2q\\n', '3q\\n', '4q\\n', '5q\\n', '6q\\n']\n",
            "\n"
          ]
        }
      ],
      "source": [
        "try:\n",
        "  with open('input.txt', 'r', encoding='utf-8') as f:\n",
        "    ctrlc = f.readlines()\n",
        "except  FileNotFoundError:\n",
        "  print('файл не найден')\n",
        "else:\n",
        "  with open('output.txt', encoding='utf8') as text:\n",
        "      print(f'исходный файл:{text.read()}')\n",
        "      print(f'cкопированный файл:{ctrlc}')\n",
        "  with open(\"output.txt\", mode='a', encoding='utf8') as new_text:\n",
        "    new_text.write(f'{ctrlc}\\n')\n",
        "  with open('output.txt', encoding='utf8') as text:\n",
        "      print(f'полученный файл:{text.read()}')\n"
      ]
    },
    {
      "cell_type": "markdown",
      "id": "2f7c8ee5",
      "metadata": {
        "id": "2f7c8ee5"
      },
      "source": [
        "---"
      ]
    },
    {
      "cell_type": "markdown",
      "id": "70ee398b",
      "metadata": {
        "id": "70ee398b"
      },
      "source": [
        "### **Пункт №5. Поиск слова в файле**"
      ]
    },
    {
      "cell_type": "markdown",
      "id": "c67f8987",
      "metadata": {
        "id": "c67f8987"
      },
      "source": [
        "Напишите программу, которая открывает файл output.txt и проверяет, содержится ли в нём слово, введённое пользователем.\n",
        "\n",
        "**ОБЯЗАТЕЛЬНО:**\n",
        "- Создайте файл с минимум 10 строками текста\n",
        "- Покажите содержимое файла\n",
        "- Протестируйте поиск минимум 5 различных слов\n",
        "- Выведите номера строк, где найдено слово\n",
        "- Покажите количество вхождений слова"
      ]
    },
    {
      "cell_type": "code",
      "execution_count": 22,
      "id": "d961bbf3",
      "metadata": {
        "id": "d961bbf3",
        "colab": {
          "base_uri": "https://localhost:8080/"
        },
        "outputId": "5cb5fd12-3bdb-4f1c-a1f7-c74713f6214e"
      },
      "outputs": [
        {
          "output_type": "stream",
          "name": "stdout",
          "text": [
            "qefih67\n",
            "ahwfhiuq12\n",
            "qeihfhoiefq98\n",
            "ftyii7kdt\n",
            "g8omt7o\n",
            "1qeafqef\n",
            "2qeaevfqef\n",
            "3qeafseqef\n",
            "4qeafgfhqef\n",
            "5qeafdqef\n",
            "6qeafmhqef\n",
            "['1q\\n', '2q\\n', '3q\\n', '4q\\n', '5q\\n', '6q\\n']\n",
            "['1q\\n', '2q\\n', '3q\\n', '4q\\n', '5q\\n', '6q\\n']\n",
            "['1q\\n', '2q\\n', '3q\\n', '4q\\n', '5q\\n', '6q\\n']\n",
            "\n"
          ]
        }
      ],
      "source": [
        "with open('output.txt', 'r', encoding='utf-8') as file:\n",
        "    content = file.read()\n",
        "    print(content)\n",
        "def search_word_in_file(word):\n",
        "    with open('output.txt', 'r', encoding='utf-8') as file:\n",
        "        lines = file.readlines()\n",
        "        found_lines = []\n",
        "        total_occurrences = 0\n",
        "\n",
        "        for i, line in enumerate(lines, 1):\n",
        "            occurrences = line.lower().count(word.lower())\n",
        "            if occurrences > 0:\n",
        "                found_lines.append(i)\n",
        "                total_occurrences += occurrences\n",
        "\n",
        "        return found_lines, total_occurrences\n",
        "\n",
        "\n",
        "test_words = []\n",
        "\n",
        "for word in test_words:\n",
        "    found_lines, total = search_word_in_file(word)\n",
        "    print(f\"\\nПоиск слова: '{word}'\")\n",
        "    if found_lines:\n",
        "        print(f\"Найдено в строках: {found_lines}\")\n",
        "        print(f\"Количество вхождений: {total}\")\n",
        "    else:\n",
        "        print(\"Слово не найдено.\")"
      ]
    },
    {
      "cell_type": "markdown",
      "id": "8d69c77a",
      "metadata": {
        "id": "8d69c77a"
      },
      "source": [
        "---"
      ]
    },
    {
      "cell_type": "markdown",
      "id": "0079e067",
      "metadata": {
        "id": "0079e067"
      },
      "source": [
        "### **Пункт №6. Чтение файла с обработкой FileNotFoundError**"
      ]
    },
    {
      "cell_type": "markdown",
      "id": "c3d27312",
      "metadata": {
        "id": "c3d27312"
      },
      "source": [
        "Напишите программу, которая запрашивает у пользователя имя файла и пытается открыть его. Если файла не существует, перехватите FileNotFoundError и выведите сообщение «Файл не найден!».\n",
        "\n",
        "**ОБЯЗАТЕЛЬНО:**\n",
        "- Протестируйте с существующим файлом\n",
        "- Протестируйте с несуществующим файлом\n",
        "- Покажите содержимое существующего файла"
      ]
    },
    {
      "cell_type": "code",
      "execution_count": null,
      "id": "0c262bd2",
      "metadata": {
        "id": "0c262bd2"
      },
      "outputs": [],
      "source": [
        "# Ваш код и демонстрация работы"
      ]
    },
    {
      "cell_type": "markdown",
      "id": "c3258b46",
      "metadata": {
        "id": "c3258b46"
      },
      "source": [
        "---"
      ]
    },
    {
      "cell_type": "markdown",
      "id": "02e0767b",
      "metadata": {
        "id": "02e0767b"
      },
      "source": [
        "### **Пункт №7. Подсчет статистики файла**"
      ]
    },
    {
      "cell_type": "markdown",
      "id": "1c33b711",
      "metadata": {
        "id": "1c33b711"
      },
      "source": [
        "Напишите функцию `file_statistics(filename)`, которая читает текстовый файл и возвращает словарь со статистикой:\n",
        "- Количество строк\n",
        "- Количество слов\n",
        "- Количество символов (с пробелами и без)\n",
        "\n",
        "**ОБЯЗАТЕЛЬНО:**\n",
        "- Создайте тестовый файл с минимум 5 строками текста\n",
        "- Выведите содержимое файла ДО обработки\n",
        "- Выведите полученную статистику\n",
        "- Обработайте случай несуществующего файла\n",
        "\n",
        "```python\n",
        "# Создание тестового файла\n",
        "test_content = \"\"\"Первая строка текста\n",
        "Вторая строка с большим количеством слов\n",
        "Третья строка\n",
        "Четвертая строка для теста\n",
        "Пятая и последняя строка\"\"\"\n",
        "\n",
        "# Сохраните в файл и продемонстрируйте работу\n",
        "```"
      ]
    },
    {
      "cell_type": "code",
      "execution_count": null,
      "id": "43bfd6b8",
      "metadata": {
        "id": "43bfd6b8"
      },
      "outputs": [],
      "source": [
        "# Ваш код и демонстрация работы"
      ]
    },
    {
      "cell_type": "markdown",
      "id": "903281dd",
      "metadata": {
        "id": "903281dd"
      },
      "source": [
        "---"
      ]
    },
    {
      "cell_type": "markdown",
      "id": "ad8b4ae4",
      "metadata": {
        "id": "ad8b4ae4"
      },
      "source": [
        "### **Пункт №8. Поиск и замена в файле**"
      ]
    },
    {
      "cell_type": "markdown",
      "id": "e5230d0a",
      "metadata": {
        "id": "e5230d0a"
      },
      "source": [
        "Напишите функцию `replace_in_file(filename, old_text, new_text)`, которая заменяет все вхождения `old_text` на `new_text` в файле и сохраняет результат в новый файл с префиксом \"modified_\".\n",
        "\n",
        "**ОБЯЗАТЕЛЬНО:**\n",
        "- Создайте файл с текстом, содержащим минимум 3 вхождения заменяемого слова\n",
        "- Выведите содержимое файла ДО замены\n",
        "- Выполните замену\n",
        "- Выведите содержимое файла ПОСЛЕ замены\n",
        "- Покажите количество произведенных замен"
      ]
    },
    {
      "cell_type": "code",
      "execution_count": null,
      "id": "64a05e35",
      "metadata": {
        "id": "64a05e35"
      },
      "outputs": [],
      "source": [
        "# Ваш код и демонстрация работы"
      ]
    },
    {
      "cell_type": "markdown",
      "id": "f77b0568",
      "metadata": {
        "id": "f77b0568"
      },
      "source": [
        "---"
      ]
    },
    {
      "cell_type": "markdown",
      "id": "79a081b1",
      "metadata": {
        "id": "79a081b1"
      },
      "source": [
        "### **Пункт №9. Объединение файлов**"
      ]
    },
    {
      "cell_type": "markdown",
      "id": "599cee3c",
      "metadata": {
        "id": "599cee3c"
      },
      "source": [
        "Создайте функцию `merge_files(file_list, output_file)`, которая объединяет содержимое нескольких текстовых файлов в один, добавляя после каждого разделитель.\n",
        "\n",
        "**ОБЯЗАТЕЛЬНО:**\n",
        "- Создайте минимум 3 файла с разным содержимым\n",
        "- Выведите содержимое КАЖДОГО исходного файла\n",
        "- Выполните объединение\n",
        "- Выведите содержимое результирующего файла"
      ]
    },
    {
      "cell_type": "code",
      "execution_count": null,
      "id": "581b5868",
      "metadata": {
        "id": "581b5868"
      },
      "outputs": [],
      "source": [
        "# Ваш код и демонстрация работы"
      ]
    },
    {
      "cell_type": "markdown",
      "id": "eb866091",
      "metadata": {
        "id": "eb866091"
      },
      "source": [
        "---"
      ]
    }
  ],
  "metadata": {
    "colab": {
      "provenance": [],
      "include_colab_link": true
    },
    "language_info": {
      "name": "python"
    },
    "kernelspec": {
      "name": "python3",
      "display_name": "Python 3"
    }
  },
  "nbformat": 4,
  "nbformat_minor": 5
}